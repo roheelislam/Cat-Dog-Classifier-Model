{
  "cells": [
    {
      "cell_type": "markdown",
      "metadata": {
        "id": "view-in-github",
        "colab_type": "text"
      },
      "source": [
        "<a href=\"https://colab.research.google.com/github/roheelislam/Cat-Dog-Classifier-Model/blob/main/Cat_Dog_Classifier_Model.ipynb\" target=\"_parent\"><img src=\"https://colab.research.google.com/assets/colab-badge.svg\" alt=\"Open In Colab\"/></a>"
      ]
    },
    {
      "cell_type": "code",
      "execution_count": null,
      "metadata": {
        "colab": {
          "base_uri": "https://localhost:8080/"
        },
        "id": "AgTODV6_qSDh",
        "outputId": "ea38d93c-c16c-41eb-b277-3c1678109169"
      },
      "outputs": [
        {
          "output_type": "stream",
          "name": "stdout",
          "text": [
            "Epoch 1/10\n",
            "\u001b[1m313/313\u001b[0m \u001b[32m━━━━━━━━━━━━━━━━━━━━\u001b[0m\u001b[37m\u001b[0m \u001b[1m16s\u001b[0m 45ms/step - accuracy: 0.5684 - loss: 0.6790 - val_accuracy: 0.6600 - val_loss: 0.6126\n",
            "Epoch 2/10\n",
            "\u001b[1m313/313\u001b[0m \u001b[32m━━━━━━━━━━━━━━━━━━━━\u001b[0m\u001b[37m\u001b[0m \u001b[1m14s\u001b[0m 44ms/step - accuracy: 0.6780 - loss: 0.5980 - val_accuracy: 0.7000 - val_loss: 0.5840\n",
            "Epoch 3/10\n",
            "\u001b[1m242/313\u001b[0m \u001b[32m━━━━━━━━━━━━━━━\u001b[0m\u001b[37m━━━━━\u001b[0m \u001b[1m3s\u001b[0m 43ms/step - accuracy: 0.7087 - loss: 0.5644"
          ]
        }
      ],
      "source": [
        "import tensorflow as tf\n",
        "from tensorflow.keras import layers, models\n",
        "import numpy as np\n",
        "import matplotlib.pyplot as plt\n",
        "from tensorflow.keras.utils import to_categorical\n",
        "from google.colab import files\n",
        "from PIL import Image\n",
        "\n",
        "# Step 1: Load CIFAR-10 dataset\n",
        "(x_train, y_train), (x_test, y_test) = tf.keras.datasets.cifar10.load_data()\n",
        "\n",
        "# Filter dataset to include only cats (class 3) and dogs (class 5)\n",
        "cat_dog_indices_train = np.where((y_train == 3) | (y_train == 5))[0]\n",
        "cat_dog_indices_test = np.where((y_test == 3) | (y_test == 5))[0]\n",
        "\n",
        "x_train, y_train = x_train[cat_dog_indices_train], y_train[cat_dog_indices_train]\n",
        "x_test, y_test = x_test[cat_dog_indices_test], y_test[cat_dog_indices_test]\n",
        "\n",
        "# Convert labels: 3 -> 0 (cat), 5 -> 1 (dog)\n",
        "y_train = np.where(y_train == 3, 0, 1)\n",
        "y_test = np.where(y_test == 3, 0, 1)\n",
        "\n",
        "# Normalize images\n",
        "x_train = x_train / 255.0\n",
        "x_test = x_test / 255.0\n",
        "\n",
        "# Step 2: Build the model\n",
        "model = models.Sequential([\n",
        "    layers.Conv2D(32, (3, 3), activation='relu', input_shape=(32, 32, 3)),\n",
        "    layers.MaxPooling2D((2, 2)),\n",
        "    layers.Conv2D(64, (3, 3), activation='relu'),\n",
        "    layers.MaxPooling2D((2, 2)),\n",
        "    layers.Flatten(),\n",
        "    layers.Dense(64, activation='relu'),\n",
        "    layers.Dense(1, activation='sigmoid')  # Binary classification\n",
        "])\n",
        "\n",
        "model.compile(optimizer='adam',\n",
        "              loss='binary_crossentropy',\n",
        "              metrics=['accuracy'])\n",
        "\n",
        "# Step 3: Train the model\n",
        "history = model.fit(x_train, y_train, epochs=10, validation_data=(x_test, y_test))\n",
        "\n",
        "# Display training performance\n",
        "print(\"\\nTraining Summary:\")\n",
        "print(f\"Final Training Accuracy: {history.history['accuracy'][-1]:.2f}\")\n",
        "print(f\"Final Validation Accuracy: {history.history['val_accuracy'][-1]:.2f}\")\n",
        "print(f\"Training Loss: {history.history['loss'][-1]:.2f}\")\n",
        "print(f\"Validation Loss: {history.history['val_loss'][-1]:.2f}\\n\")\n",
        "\n",
        "# Step 4: Upload and classify custom image\n",
        "def predict_image():\n",
        "    print(\"Upload an image file to classify it as a Cat or Dog.\")\n",
        "    uploaded = files.upload()\n",
        "\n",
        "    for filename in uploaded.keys():\n",
        "        # Open and preprocess the image\n",
        "        img = Image.open(filename).resize((32, 32))\n",
        "        img_array = np.array(img) / 255.0  # Normalize image\n",
        "        img_array = np.expand_dims(img_array, axis=0)  # Add batch dimension\n",
        "\n",
        "        # Predict\n",
        "        prediction = model.predict(img_array)\n",
        "        confidence = prediction[0][0]\n",
        "        class_name = 'Dog' if confidence > 0.5 else 'Cat'\n",
        "\n",
        "        # Display image and prediction\n",
        "        plt.imshow(img)\n",
        "        plt.title(f'Prediction: {class_name}')\n",
        "        plt.axis('off')\n",
        "        plt.show()\n",
        "\n",
        "        # Prediction rating based on confidence\n",
        "        if confidence > 0.9 or confidence < 0.1:\n",
        "            rating = \"High Confidence\"\n",
        "        elif 0.7 < confidence <= 0.9 or 0.1 <= confidence <= 0.3:\n",
        "            rating = \"Moderate Confidence\"\n",
        "        else:\n",
        "            rating = \"Low Confidence\"\n",
        "\n",
        "        # Display detailed output\n",
        "        print(f\"\\nPrediction Details:\")\n",
        "        print(f\" - Uploaded File: {filename}\")\n",
        "        print(f\" - Model Prediction: {class_name}\")\n",
        "        print(f\" - Confidence Score: {confidence:.2f}\")\n",
        "        print(f\" - Prediction Rating: {rating}\")\n",
        "        print(f\"\\nModel Insights:\")\n",
        "        print(f\" - Model trained on a dataset containing cats and dogs.\")\n",
        "        print(f\" - Training Accuracy: {history.history['accuracy'][-1]:.2f}\")\n",
        "        print(f\" - Validation Accuracy: {history.history['val_accuracy'][-1]:.2f}\")\n",
        "        print(f\"\\nFYI:\")\n",
        "        print(\" - Confidence scores closer to 1 or 0 indicate higher certainty in the prediction.\")\n",
        "        print(\" - Scores around 0.5 may indicate that the model is unsure.\")\n",
        "\n",
        "# Call the function to upload and predict\n",
        "predict_image()\n"
      ]
    },
    {
      "cell_type": "code",
      "execution_count": null,
      "metadata": {
        "id": "PAaL-9Keu2Mz"
      },
      "outputs": [],
      "source": []
    }
  ],
  "metadata": {
    "colab": {
      "provenance": [],
      "authorship_tag": "ABX9TyNVvDMg8Rs7xgn5Wr99L5lC",
      "include_colab_link": true
    },
    "kernelspec": {
      "display_name": "Python 3",
      "name": "python3"
    },
    "language_info": {
      "name": "python"
    }
  },
  "nbformat": 4,
  "nbformat_minor": 0
}